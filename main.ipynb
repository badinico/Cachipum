{
 "cells": [
  {
   "cell_type": "code",
   "execution_count": null,
   "metadata": {},
   "outputs": [],
   "source": [
    "import requests\n",
    "import pandas as pd"
   ]
  },
  {
   "cell_type": "code",
   "execution_count": null,
   "metadata": {},
   "outputs": [],
   "source": [
    "ip = \"45.225.95.218\"\n",
    "url = f\"http://ipwho.is/{ip}\"\n",
    "response = requests.get(url)\n",
    "js_data = response.json()"
   ]
  },
  {
   "cell_type": "code",
   "execution_count": null,
   "metadata": {},
   "outputs": [],
   "source": [
    "df = pd.DataFrame(js_data).T\n",
    "\n",
    "df"
   ]
  },
  {
   "cell_type": "code",
   "execution_count": null,
   "metadata": {},
   "outputs": [],
   "source": [
    "latitud = df.loc[\"latitude\"][0]\n",
    "longitud = df.loc[\"longitude\"][0]"
   ]
  },
  {
   "cell_type": "code",
   "execution_count": null,
   "metadata": {},
   "outputs": [],
   "source": [
    "print(f\"Latitud: {latitud}\")"
   ]
  },
  {
   "cell_type": "code",
   "execution_count": null,
   "metadata": {},
   "outputs": [],
   "source": [
    "import folium\n",
    "\n",
    "def mostrar_mapa(latitud, longitud):\n",
    "    # Crear un objeto de mapa centrado en las coordenadas dadas\n",
    "    mapa = folium.Map(location=[latitud, longitud], zoom_start=15)\n",
    "\n",
    "    # Agregar un marcador en la ubicación deseada\n",
    "    folium.Marker([latitud, longitud], popup=\"Ubicación deseada\").add_to(mapa)\n",
    "\n",
    "    # Mostrar el mapa\n",
    "    return mapa\n",
    "\n",
    "\n",
    "\n",
    "\n",
    "\n",
    "mostrar_mapa(latitud, longitud)\n"
   ]
  },
  {
   "cell_type": "code",
   "execution_count": null,
   "metadata": {},
   "outputs": [],
   "source": []
  }
 ],
 "metadata": {
  "kernelspec": {
   "display_name": "Python 3",
   "language": "python",
   "name": "python3"
  },
  "language_info": {
   "codemirror_mode": {
    "name": "ipython",
    "version": 3
   },
   "file_extension": ".py",
   "mimetype": "text/x-python",
   "name": "python",
   "nbconvert_exporter": "python",
   "pygments_lexer": "ipython3",
   "version": "3.10.11"
  },
  "orig_nbformat": 4
 },
 "nbformat": 4,
 "nbformat_minor": 2
}
